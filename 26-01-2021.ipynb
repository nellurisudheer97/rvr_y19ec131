{
 "cells": [
  {
   "cell_type": "code",
   "execution_count": 24,
   "metadata": {},
   "outputs": [
    {
     "ename": "IndentationError",
     "evalue": "expected an indented block (<ipython-input-24-d3d056f6aac0>, line 4)",
     "output_type": "error",
     "traceback": [
      "\u001b[1;36m  File \u001b[1;32m\"<ipython-input-24-d3d056f6aac0>\"\u001b[1;36m, line \u001b[1;32m4\u001b[0m\n\u001b[1;33m    for j in range(1,t_len+1):\u001b[0m\n\u001b[1;37m      ^\u001b[0m\n\u001b[1;31mIndentationError\u001b[0m\u001b[1;31m:\u001b[0m expected an indented block\n"
     ]
    }
   ],
   "source": [
    "t= int(input('enter number'))\n",
    "t_len= int(input('enter table length'))\n",
    "for i in range(1,t+1):\n",
    "for j in range(1,t_len+1):\n",
    "        print('{} * {)  '{}'=  format(i,j,'i*j'))"
   ]
  },
  {
   "cell_type": "code",
   "execution_count": 37,
   "metadata": {},
   "outputs": [
    {
     "ename": "IndentationError",
     "evalue": "unindent does not match any outer indentation level (<tokenize>, line 6)",
     "output_type": "error",
     "traceback": [
      "\u001b[1;36m  File \u001b[1;32m\"<tokenize>\"\u001b[1;36m, line \u001b[1;32m6\u001b[0m\n\u001b[1;33m    print(i,end= '  ')\u001b[0m\n\u001b[1;37m    ^\u001b[0m\n\u001b[1;31mIndentationError\u001b[0m\u001b[1;31m:\u001b[0m unindent does not match any outer indentation level\n"
     ]
    }
   ],
   "source": [
    "#break\n",
    "#continue\n",
    "for i in range{1,10}:\n",
    "      if i==5:\n",
    "         continue\n",
    "        print(i,end= '  ')\n",
    "                     \n",
    "    "
   ]
  },
  {
   "cell_type": "code",
   "execution_count": null,
   "metadata": {},
   "outputs": [],
   "source": [
    "# functions\n",
    "code reduced \n",
    "time will reduced\n",
    "types of functions\n",
    "1. inbuilt/ default functions:\n",
    "ex- sum, max, min ,int ,print\n",
    "2. user define functions:\n",
    "    1. function creation\n",
    "      2. function declaration\n",
    "        *def functionname(arg):\n",
    "3.function defination:\n",
    "    statements\n",
    "    4.function calling:\n",
    "        by using function name\n",
    "\n"
   ]
  },
  {
   "cell_type": "code",
   "execution_count": 40,
   "metadata": {},
   "outputs": [
    {
     "data": {
      "text/plain": [
       "6"
      ]
     },
     "execution_count": 40,
     "metadata": {},
     "output_type": "execute_result"
    }
   ],
   "source": [
    "sum([1,5])\n",
    "\n"
   ]
  },
  {
   "cell_type": "code",
   "execution_count": 41,
   "metadata": {},
   "outputs": [
    {
     "data": {
      "text/plain": [
       "69"
      ]
     },
     "execution_count": 41,
     "metadata": {},
     "output_type": "execute_result"
    }
   ],
   "source": [
    "max([12,4,69])"
   ]
  },
  {
   "cell_type": "code",
   "execution_count": 49,
   "metadata": {},
   "outputs": [
    {
     "name": "stdout",
     "output_type": "stream",
     "text": [
      "8\n"
     ]
    }
   ],
   "source": [
    "# function creation:\n",
    "def add(a,b):\n",
    "    print(a+b)\n",
    "add(2,6)"
   ]
  },
  {
   "cell_type": "code",
   "execution_count": 51,
   "metadata": {},
   "outputs": [
    {
     "name": "stdout",
     "output_type": "stream",
     "text": [
      "1\n"
     ]
    }
   ],
   "source": [
    "#function creation:\n",
    "def sub (a,b):\n",
    "    print(a-b)\n",
    "sub(12,11)"
   ]
  },
  {
   "cell_type": "code",
   "execution_count": 52,
   "metadata": {
    "collapsed": true
   },
   "outputs": [
    {
     "ename": "SyntaxError",
     "evalue": "invalid syntax (<ipython-input-52-f1a407732887>, line 3)",
     "output_type": "error",
     "traceback": [
      "\u001b[1;36m  File \u001b[1;32m\"<ipython-input-52-f1a407732887>\"\u001b[1;36m, line \u001b[1;32m3\u001b[0m\n\u001b[1;33m    1. without arguements and without return values:\u001b[0m\n\u001b[1;37m             ^\u001b[0m\n\u001b[1;31mSyntaxError\u001b[0m\u001b[1;31m:\u001b[0m invalid syntax\n"
     ]
    }
   ],
   "source": [
    "# types of user define functions:\n",
    "# based on return values :\n",
    "1. without arguements and without return values:\n",
    "2. without arguements and with return values:\n",
    "3.with arguements and without return values:\n",
    "4.with arguements and with return values:\n",
    "\n"
   ]
  },
  {
   "cell_type": "code",
   "execution_count": 56,
   "metadata": {},
   "outputs": [
    {
     "name": "stdout",
     "output_type": "stream",
     "text": [
      "enter n value5\n",
      "n is factor of 10\n",
      "enter n value5\n",
      "n is factor of 10\n",
      "None\n"
     ]
    }
   ],
   "source": [
    "# 1. without arg and without return value\n",
    "def f1():\n",
    "    n= int(input('enter n value'))\n",
    "    if 10%n==0:\n",
    "        print('n is factor of 10')\n",
    "    else:\n",
    "            print(' n is not factor of 10')\n",
    "f1()\n",
    "n= f1()\n",
    "print(n)\n",
    "        "
   ]
  },
  {
   "cell_type": "code",
   "execution_count": 60,
   "metadata": {},
   "outputs": [
    {
     "ename": "IndentationError",
     "evalue": "unexpected indent (<ipython-input-60-024092073f82>, line 2)",
     "output_type": "error",
     "traceback": [
      "\u001b[1;36m  File \u001b[1;32m\"<ipython-input-60-024092073f82>\"\u001b[1;36m, line \u001b[1;32m2\u001b[0m\n\u001b[1;33m    def add(a,b)\u001b[0m\n\u001b[1;37m    ^\u001b[0m\n\u001b[1;31mIndentationError\u001b[0m\u001b[1;31m:\u001b[0m unexpected indent\n"
     ]
    }
   ],
   "source": [
    "# function creation:\n",
    "  def add(a,b)\n",
    "   print(a+b)\n",
    "add(4,5)\n"
   ]
  },
  {
   "cell_type": "code",
   "execution_count": 80,
   "metadata": {},
   "outputs": [
    {
     "ename": "IndentationError",
     "evalue": "unexpected indent (<ipython-input-80-cc15a11cc61c>, line 4)",
     "output_type": "error",
     "traceback": [
      "\u001b[1;36m  File \u001b[1;32m\"<ipython-input-80-cc15a11cc61c>\"\u001b[1;36m, line \u001b[1;32m4\u001b[0m\n\u001b[1;33m    def f2()\u001b[0m\n\u001b[1;37m    ^\u001b[0m\n\u001b[1;31mIndentationError\u001b[0m\u001b[1;31m:\u001b[0m unexpected indent\n"
     ]
    }
   ],
   "source": [
    "# without arg and with return type \n",
    "\n",
    "\n",
    " def f2()\n",
    "  n1=int(input(' enter n1 value')):\n",
    "      n2=int(input(' enter n2 value')):\n",
    "  return n1+n2\n",
    "     add=f2(n1,n2)\n",
    "     print('addition is:', n1+n2)"
   ]
  },
  {
   "cell_type": "code",
   "execution_count": null,
   "metadata": {},
   "outputs": [],
   "source": [
    "def f1()\n",
    "n1=inyt(input( 'enter n1 value'))\n",
    "n2=int(input('enter n2 value'))\n",
    "add f1(n1+n2)\n",
    "print(addition)"
   ]
  },
  {
   "cell_type": "code",
   "execution_count": null,
   "metadata": {},
   "outputs": [],
   "source": []
  }
 ],
 "metadata": {
  "kernelspec": {
   "display_name": "Python 3",
   "language": "python",
   "name": "python3"
  },
  "language_info": {
   "codemirror_mode": {
    "name": "ipython",
    "version": 3
   },
   "file_extension": ".py",
   "mimetype": "text/x-python",
   "name": "python",
   "nbconvert_exporter": "python",
   "pygments_lexer": "ipython3",
   "version": "3.7.4rc1"
  }
 },
 "nbformat": 4,
 "nbformat_minor": 2
}
