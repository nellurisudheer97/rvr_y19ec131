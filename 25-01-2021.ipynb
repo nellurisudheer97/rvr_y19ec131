{
 "cells": [
  {
   "cell_type": "code",
   "execution_count": 1,
   "metadata": {},
   "outputs": [
    {
     "name": "stdout",
     "output_type": "stream",
     "text": [
      "hello world\n"
     ]
    }
   ],
   "source": [
    "a= ('hello world')\n",
    "print(a)\n"
   ]
  },
  {
   "cell_type": "code",
   "execution_count": null,
   "metadata": {},
   "outputs": [],
   "source": [
    "# syntax:\n",
    "# for var in range(start, end, diff):\n",
    "  # statements"
   ]
  },
  {
   "cell_type": "code",
   "execution_count": 7,
   "metadata": {},
   "outputs": [
    {
     "name": "stdout",
     "output_type": "stream",
     "text": [
      "enter a name2\n",
      "1\n",
      "2\n",
      "3\n",
      "4\n",
      "5\n",
      "6\n",
      "7\n",
      "8\n",
      "9\n",
      "10\n"
     ]
    }
   ],
   "source": [
    "a= input('enter a name')\n",
    "for  a in range (1,11):\n",
    "    print(a)"
   ]
  },
  {
   "cell_type": "code",
   "execution_count": 15,
   "metadata": {},
   "outputs": [
    {
     "name": "stdout",
     "output_type": "stream",
     "text": [
      "0 2 4 6 8 10 12 14 16 18 20 22 24 26 28 30 32 34 36 38 40 42 44 46 48 50 52 54 56 58 60 62 64 66 68 70 72 74 76 78 80 82 84 86 88 90 92 94 96 98 100 "
     ]
    }
   ],
   "source": [
    "for i in range (0,101):\n",
    "    if i%2==0:\n",
    "        print(i,end =\" \")"
   ]
  },
  {
   "cell_type": "code",
   "execution_count": 19,
   "metadata": {},
   "outputs": [
    {
     "name": "stdout",
     "output_type": "stream",
     "text": [
      "enter a num24\n",
      "even 24\n"
     ]
    }
   ],
   "source": [
    "b= int(input('enter a num'))\n",
    "\n",
    "if b%2==0:\n",
    "       print(\"even\",b)\n",
    "else:\n",
    "        print('odd',b)"
   ]
  },
  {
   "cell_type": "code",
   "execution_count": 21,
   "metadata": {},
   "outputs": [
    {
     "name": "stdout",
     "output_type": "stream",
     "text": [
      "enter table number15\n",
      "enter table length: 10\n",
      "15 * 1 * 15\n",
      "15 * 2 * 30\n",
      "15 * 3 * 45\n",
      "15 * 4 * 60\n",
      "15 * 5 * 75\n",
      "15 * 6 * 90\n",
      "15 * 7 * 105\n",
      "15 * 8 * 120\n",
      "15 * 9 * 135\n",
      "15 * 10 * 150\n"
     ]
    }
   ],
   "source": [
    "t= int(input('enter table number'))\n",
    "t_len= int(input('enter table length: '))\n",
    "for  i in range(1,t_len+1):\n",
    "    # 15 * 1 = 15\n",
    "    print('{} * {} * {}'.format(t,i,t*i))"
   ]
  },
  {
   "cell_type": "code",
   "execution_count": 1,
   "metadata": {},
   "outputs": [
    {
     "name": "stdout",
     "output_type": "stream",
     "text": [
      " enter number5\n",
      "1 5 "
     ]
    }
   ],
   "source": [
    "n= int(input(' enter number'))\n",
    "for i in range(1,n+1):\n",
    "        \n",
    "       \n",
    "    if n%i==0:\n",
    "        print(i,end =' ')"
   ]
  },
  {
   "cell_type": "code",
   "execution_count": 2,
   "metadata": {},
   "outputs": [
    {
     "name": "stdout",
     "output_type": "stream",
     "text": [
      "enter number7\n",
      "1  not a prime number\n",
      "1  not a prime number\n"
     ]
    }
   ],
   "source": [
    "n= int(input('enter number'))\n",
    "cnt=0\n",
    "for i in range(1,n+1):\n",
    "    if n%i==0:\n",
    "        cnt==1\n",
    "        print(1,end ='  ')\n",
    "        if n==2:\n",
    "            print('prime number')\n",
    "        else:\n",
    "            print('not a prime number')"
   ]
  },
  {
   "cell_type": "code",
   "execution_count": 7,
   "metadata": {
    "scrolled": true
   },
   "outputs": [
    {
     "ename": "IndentationError",
     "evalue": "unexpected indent (<ipython-input-7-06e02ce76740>, line 3)",
     "output_type": "error",
     "traceback": [
      "\u001b[1;36m  File \u001b[1;32m\"<ipython-input-7-06e02ce76740>\"\u001b[1;36m, line \u001b[1;32m3\u001b[0m\n\u001b[1;33m    i = 1\u001b[0m\n\u001b[1;37m    ^\u001b[0m\n\u001b[1;31mIndentationError\u001b[0m\u001b[1;31m:\u001b[0m unexpected indent\n"
     ]
    }
   ],
   "source": [
    "# while condition:\n",
    "   # statements\n",
    "    i=1\n",
    "     while i<11:\n",
    "         print(i)\n",
    "         i+=1"
   ]
  },
  {
   "cell_type": "code",
   "execution_count": null,
   "metadata": {},
   "outputs": [],
   "source": []
  }
 ],
 "metadata": {
  "kernelspec": {
   "display_name": "Python 3",
   "language": "python",
   "name": "python3"
  },
  "language_info": {
   "codemirror_mode": {
    "name": "ipython",
    "version": 3
   },
   "file_extension": ".py",
   "mimetype": "text/x-python",
   "name": "python",
   "nbconvert_exporter": "python",
   "pygments_lexer": "ipython3",
   "version": "3.7.4rc1"
  }
 },
 "nbformat": 4,
 "nbformat_minor": 2
}
